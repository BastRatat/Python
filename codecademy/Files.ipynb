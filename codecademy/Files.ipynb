{
 "cells": [
  {
   "cell_type": "markdown",
   "metadata": {},
   "source": [
    "# READING A FILE"
   ]
  },
  {
   "cell_type": "code",
   "execution_count": 24,
   "metadata": {},
   "outputs": [],
   "source": [
    "import csv"
   ]
  },
  {
   "cell_type": "raw",
   "metadata": {},
   "source": [
    "Computers use file systems to store and retrieve data. Each file is an individual container of related information. If you’ve ever saved a document, downloaded a song, or even sent an email you’ve created a file on some computer somewhere.\n",
    "\n",
    "We could read that file like this:"
   ]
  },
  {
   "cell_type": "code",
   "execution_count": 3,
   "metadata": {},
   "outputs": [
    {
     "name": "stdout",
     "output_type": "stream",
     "text": [
      "Congratulations on reading your first file!\n",
      "This is the second line\n",
      "This is the third line\n",
      "...\n"
     ]
    }
   ],
   "source": [
    "with open('document.txt') as text_file: # and yet the path of the file has not been specified...\n",
    "  text_data = text_file.read()\n",
    "print(text_data)"
   ]
  },
  {
   "cell_type": "markdown",
   "metadata": {},
   "source": [
    "# ITERATING THROUGH LINES"
   ]
  },
  {
   "cell_type": "raw",
   "metadata": {},
   "source": [
    "We can use the .readlines() function to read a text file line by line instead of having the whole thing."
   ]
  },
  {
   "cell_type": "code",
   "execution_count": 4,
   "metadata": {},
   "outputs": [
    {
     "name": "stdout",
     "output_type": "stream",
     "text": [
      "4\n"
     ]
    }
   ],
   "source": [
    "with open('document.txt') as text_file:\n",
    "    count = 0\n",
    "    for line in text_file.readlines():\n",
    "        count+=1\n",
    "print(count)"
   ]
  },
  {
   "cell_type": "code",
   "execution_count": 5,
   "metadata": {},
   "outputs": [
    {
     "name": "stdout",
     "output_type": "stream",
     "text": [
      "Congratulations on reading your first file!\n",
      "\n",
      "This is the second line\n",
      "\n",
      "This is the third line\n",
      "\n",
      "...\n"
     ]
    }
   ],
   "source": [
    "with open('document.txt') as text_file:\n",
    "    for line in text_file.readlines():\n",
    "        print(line)"
   ]
  },
  {
   "cell_type": "markdown",
   "metadata": {},
   "source": [
    "# READING A LINE"
   ]
  },
  {
   "cell_type": "raw",
   "metadata": {},
   "source": [
    "Sometimes you don’t want to iterate through a whole file. For that, there’s a different file method, .readline(), which will only read a single line at a time. If the entire document is read line by line in this way subsequent calls to .readline() will not throw an error but will start returning an empty string (\"\")."
   ]
  },
  {
   "cell_type": "code",
   "execution_count": 9,
   "metadata": {},
   "outputs": [
    {
     "name": "stdout",
     "output_type": "stream",
     "text": [
      "Congratulations on reading your first file!\n",
      "\n",
      "This is the second line\n",
      "\n"
     ]
    }
   ],
   "source": [
    "with open('document.txt') as line:\n",
    "    first_line = line.readline()\n",
    "    second_line = line.readline()\n",
    "print(first_line)\n",
    "print(second_line)"
   ]
  },
  {
   "cell_type": "markdown",
   "metadata": {},
   "source": [
    "# WRITE FILES"
   ]
  },
  {
   "cell_type": "raw",
   "metadata": {},
   "source": [
    "We pass the argument 'w' to open() in order to indicate to open the file in write-mode. The default argument is 'r' and passing 'r' to open() opens the file in read-mode as we’ve been doing.\n",
    "\n",
    "This command creates a new file in the pwd and allow us to write within the file."
   ]
  },
  {
   "cell_type": "code",
   "execution_count": 11,
   "metadata": {},
   "outputs": [
    {
     "name": "stdout",
     "output_type": "stream",
     "text": [
      "Instructions to safely use this chunk of code\n"
     ]
    }
   ],
   "source": [
    "with open('READ_ME.txt', 'w') as new_file:\n",
    "    new_file.write('Instructions to safely use this chunk of code')\n",
    "    \n",
    "with open('READ_ME.txt') as file:\n",
    "    file_content = file.read()\n",
    "print(file_content)"
   ]
  },
  {
   "cell_type": "markdown",
   "metadata": {},
   "source": [
    "# APPENDING TO A FILE"
   ]
  },
  {
   "cell_type": "raw",
   "metadata": {},
   "source": [
    "So maybe completely deleting and overwriting existing files is something that bothers you. Isn’t there a way to just add a line to a file without completely deleting it? Instead of opening the file using the argument 'w' for write-mode, we open it with 'a' for append-mode.\n",
    "\n",
    "Opening the file in append-mode, with 'a' as an argument to open(), means that using the file object’s .write() method appends whatever is passed to the end of the file in a new line."
   ]
  },
  {
   "cell_type": "code",
   "execution_count": 14,
   "metadata": {},
   "outputs": [
    {
     "name": "stdout",
     "output_type": "stream",
     "text": [
      "Instructions to safely use this chunk of code\n",
      "\n",
      "\n",
      "First instruction...\n"
     ]
    }
   ],
   "source": [
    "with open('READ_ME.txt', 'a') as new_file:\n",
    "    new_file.write('\\nFirst instruction...')\n",
    "    \n",
    "with open('READ_ME.txt') as file:\n",
    "    file_content = file.read()\n",
    "print(file_content)"
   ]
  },
  {
   "cell_type": "markdown",
   "metadata": {},
   "source": [
    "# CSV FILES"
   ]
  },
  {
   "cell_type": "raw",
   "metadata": {},
   "source": [
    " CSV stands for Comma-Separated Values and CSV files are usually the way that data from spreadsheet software (like Microsoft Excel or Google Sheets) is exported into a portable format. It is parsed as a string."
   ]
  },
  {
   "cell_type": "code",
   "execution_count": null,
   "metadata": {},
   "outputs": [],
   "source": [
    "with open('orders.csv') as orders_file:\n",
    "    orders = orders_file.read()\n",
    "print(orders)"
   ]
  },
  {
   "cell_type": "code",
   "execution_count": null,
   "metadata": {},
   "outputs": [],
   "source": [
    "with open('orders.csv') as orders_file:\n",
    "  orders_file_dict = csv.DictReader(orders_file)\n",
    "  for raw in orders_file_dict:\n",
    "    pass # some statements"
   ]
  },
  {
   "cell_type": "code",
   "execution_count": null,
   "metadata": {},
   "outputs": [],
   "source": []
  }
 ],
 "metadata": {
  "kernelspec": {
   "display_name": "Python 3",
   "language": "python",
   "name": "python3"
  },
  "language_info": {
   "codemirror_mode": {
    "name": "ipython",
    "version": 3
   },
   "file_extension": ".py",
   "mimetype": "text/x-python",
   "name": "python",
   "nbconvert_exporter": "python",
   "pygments_lexer": "ipython3",
   "version": "3.7.3"
  }
 },
 "nbformat": 4,
 "nbformat_minor": 2
}
